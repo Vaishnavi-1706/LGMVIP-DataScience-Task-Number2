{
 "cells": [
  {
   "cell_type": "code",
   "execution_count": 1,
   "id": "16d2299c",
   "metadata": {},
   "outputs": [
    {
     "name": "stdout",
     "output_type": "stream",
     "text": [
      "Requirement already satisfied: opencv-python in c:\\users\\saibaba\\anaconda3\\lib\\site-packages (4.10.0.84)\n",
      "Requirement already satisfied: numpy>=1.21.2 in c:\\users\\saibaba\\anaconda3\\lib\\site-packages (from opencv-python) (1.24.3)\n",
      "Note: you may need to restart the kernel to use updated packages.\n"
     ]
    }
   ],
   "source": [
    "pip install opencv-python"
   ]
  },
  {
   "cell_type": "code",
   "execution_count": 2,
   "id": "57509a6e",
   "metadata": {},
   "outputs": [],
   "source": [
    "import cv2"
   ]
  },
  {
   "cell_type": "code",
   "execution_count": 5,
   "id": "9262dad9",
   "metadata": {},
   "outputs": [],
   "source": [
    "image = cv2.imread(\"image1.png\")\n",
    "#Colour to B&W\n",
    "gray_image = cv2.cvtColor(image, cv2.COLOR_BGR2GRAY)\n",
    "#Invert B&W image\n",
    "inverted_image = cv2.bitwise_not(gray_image)\n",
    "#Blurring Inverted image\n",
    "blur_image = cv2.GaussianBlur(inverted_image, (21, 21), sigmaX=0, sigmaY=0)\n",
    "#Inverting blurred image\n",
    "inverted_blur = cv2.bitwise_not(blur_image)\n",
    "#Converting to Pensil Sketch\n",
    "pencil_sketch = cv2.divide(gray_image, inverted_blur, scale=250.0)"
   ]
  },
  {
   "cell_type": "code",
   "execution_count": null,
   "id": "4804c4ff",
   "metadata": {},
   "outputs": [],
   "source": [
    "cv2.imshow('Pencil Sketch', pencil_sketch)\n",
    "cv2.waitKey(0)\n",
    "cv2.destroyAllWindows()"
   ]
  }
 ],
 "metadata": {
  "kernelspec": {
   "display_name": "Python 3 (ipykernel)",
   "language": "python",
   "name": "python3"
  },
  "language_info": {
   "codemirror_mode": {
    "name": "ipython",
    "version": 3
   },
   "file_extension": ".py",
   "mimetype": "text/x-python",
   "name": "python",
   "nbconvert_exporter": "python",
   "pygments_lexer": "ipython3",
   "version": "3.11.3"
  }
 },
 "nbformat": 4,
 "nbformat_minor": 5
}
